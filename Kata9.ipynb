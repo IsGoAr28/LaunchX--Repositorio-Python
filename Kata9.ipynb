{
 "cells": [
  {
   "cell_type": "markdown",
   "metadata": {},
   "source": [
    "Ejercicio: Uso de funciones en Python"
   ]
  },
  {
   "cell_type": "markdown",
   "metadata": {},
   "source": [
    "Ejercicio 1: Trabajar con argumentos en funciones\n",
    "Los argumentos requeridos en las funciones se utilizan cuando las funciones necesitan que esos argumentos funcionen correctamente. En este ejercicio, construirás un informe de combustible que requiere información de varias ubicaciones de combustible en todo el cohete.\n",
    "\n",
    "TIP Dedica unos minutos para tratar de encontrar una solución. Luego desplázate hacia abajo hasta la parte inferior para ver si has logrado compilar el programa de acuerdo con las especificaciones"
   ]
  },
  {
   "cell_type": "markdown",
   "metadata": {},
   "source": [
    "Comienza por crear una función que necesite tres lecturas de combustible y devuelva un informe:"
   ]
  },
  {
   "cell_type": "code",
   "execution_count": 2,
   "metadata": {},
   "outputs": [],
   "source": [
    "# Función para leer 3 tanques de combustible y muestre el promedio\n",
    "\n",
    "def reporte_combustible(tanque1, tanque2, tanque3):\n",
    "    prom_combustible = (tanque1 + tanque2 + tanque3) / 3\n",
    "    print(\"Combustible tanque 1 \", tanque1,\"Combustible tanque 2\", tanque2, \"Combustible tanque 3\", tanque3,\"El promedio de combustible es \",  prom_combustible )"
   ]
  },
  {
   "cell_type": "markdown",
   "metadata": {},
   "source": [
    "Ahora que hemos definido la función de informes, vamos a comprobarlo. Para esta misión, los tanques no están llenos:"
   ]
  },
  {
   "cell_type": "code",
   "execution_count": 3,
   "metadata": {},
   "outputs": [
    {
     "name": "stdout",
     "output_type": "stream",
     "text": [
      "Combustible tanque 1  12 Combustible tanque 2 23 Combustible tanque 3 45 El promedio de combustible es  26.666666666666668\n"
     ]
    }
   ],
   "source": [
    "# Llamamos a la función que genera el reporte print(funcion(tanque1, tanque2, tanque3))\n",
    "\n",
    "reporte_combustible(80,70,85)"
   ]
  },
  {
   "cell_type": "markdown",
   "metadata": {},
   "source": [
    "En lugar de simplemente crear el informe, la función también está calculando el promedio. Mejora la legibilidad extrayendo el cálculo promedio de la función en una nueva función para que el promedio se pueda hacer de forma independiente:"
   ]
  },
  {
   "cell_type": "code",
   "execution_count": 17,
   "metadata": {},
   "outputs": [
    {
     "name": "stdout",
     "output_type": "stream",
     "text": [
      "El promedio es  82.0\n"
     ]
    }
   ],
   "source": [
    "# Función promedio \n",
    "def pcombustible(tanque1, tanque2,tanque3):\n",
    "    promedio = (tanque1 + tanque2 + tanque3) / 3\n",
    "    return promedio\n",
    "\n",
    "print(\"El promedio es \", pcombustible(80,85,81))\n",
    "\n"
   ]
  },
  {
   "cell_type": "markdown",
   "metadata": {},
   "source": [
    "Ahora actualiza la función de informes para llamando a la nueva función del promedio:"
   ]
  },
  {
   "cell_type": "code",
   "execution_count": 31,
   "metadata": {},
   "outputs": [
    {
     "name": "stdout",
     "output_type": "stream",
     "text": [
      " Reporte Combustible:\n",
      "    Combustible Tanque 1: 88\n",
      "    Combustible Tanque 2: 76\n",
      "    Combustible Tanque 3: 70 \n",
      "    Promedio de Combustible: 78.0\n",
      "    \n"
     ]
    }
   ],
   "source": [
    "# Actualiza la función\n",
    "\n",
    "def reporte_combustible (tanque1, tanque2, tanque3):\n",
    "    pcombustible(tanque1,tanque2, tanque3)\n",
    "    return f\"\"\" Reporte Combustible:\n",
    "    Combustible Tanque 1: {tanque1}\n",
    "    Combustible Tanque 2: {tanque2}\n",
    "    Combustible Tanque 3: {tanque3} \n",
    "    Promedio de Combustible: {pcombustible(tanque1,tanque2, tanque3)}\n",
    "    \"\"\"\n",
    "\n",
    "print(reporte_combustible(88, 76, 70))"
   ]
  },
  {
   "cell_type": "markdown",
   "metadata": {},
   "source": [
    "Ejercicio 2: Trabajo con argumentos de palabra clave\n",
    "\n",
    "Ejercicio : Trabajar con argumentos de palabras clave en funciones\n",
    "En este ejercicio, construirás un informe de cohete que requiere varias piezas de información, como el tiempo hasta el destino, el combustible a la izquierda y el nombre del destino. Comienza por crear una función que creará un informe preciso de la misión:"
   ]
  },
  {
   "cell_type": "code",
   "execution_count": 32,
   "metadata": {},
   "outputs": [
    {
     "name": "stdout",
     "output_type": "stream",
     "text": [
      " Informe de la mision:\n",
      "    Hora de lanzamiento: 14 horas\n",
      "    Tiempo de vuelo: 51 minutos\n",
      "    Destino de la mision: Moon \n",
      "    Combustible del tanque interno: 200000 galones\n",
      "    Combustible del tanque externo: 300000 galones\n",
      "    \n"
     ]
    }
   ],
   "source": [
    "# Función con un informe preciso de la misión. Considera hora de prelanzamiento, tiempo de vuelo, destino, tanque externo y tanque interno\n",
    "\n",
    "def informe_mision (hora_lanzamiento,tiempo_vuelo,destino, tanque_interno, tanque_externo):\n",
    "    \n",
    "    return f\"\"\" Informe de la mision:\n",
    "    Hora de lanzamiento: {hora_lanzamiento} horas\n",
    "    Tiempo de vuelo: {tiempo_vuelo} minutos\n",
    "    Destino de la mision: {destino} \n",
    "    Combustible del tanque interno: {tanque_interno} galones\n",
    "    Combustible del tanque externo: {tanque_externo} galones\n",
    "    \"\"\"\n",
    "\n",
    "print(informe_mision(14, 51, \"Moon\", 200000, 300000))\n"
   ]
  },
  {
   "cell_type": "markdown",
   "metadata": {},
   "source": [
    "La función es problemática porque no se puede adaptar para minutos adicionales o tanques adicionales de combustible. Hazlo más flexible permitiendo cualquier número de pasos basados en el tiempo y cualquier número de tanques. En lugar de usar *args y **kwargs, aprovecha el hecho de que puedes usar cualquier nombre que desees. Asegurate que la función sea más legible mediante el uso de nombres de variables que están asociados con las entradas, como *minutes y **fuel_reservoirs:"
   ]
  },
  {
   "cell_type": "code",
   "execution_count": 36,
   "metadata": {},
   "outputs": [
    {
     "name": "stdout",
     "output_type": "stream",
     "text": [
      " Informe de la mision:\n",
      "    Destino de la mision: Moon \n",
      "    Tiempo de vuelo: 76 minutos\n",
      "    Combustible del tanque: 500000 galones\n",
      "    \n"
     ]
    }
   ],
   "source": [
    "# Escribe tu nueva función de reporte considerando lo anterior\n",
    "\n",
    "# Función con un informe preciso de la misión. Considera hora de prelanzamiento, tiempo de vuelo, destino, tanque externo y tanque interno\n",
    "\n",
    "def informe_mision (destino, *minutes, **fuel_reservoirs):\n",
    "    \n",
    "    return f\"\"\" Informe de la mision:\n",
    "    Destino de la mision: {destino} \n",
    "    Tiempo de vuelo: {sum(minutes)} minutos\n",
    "    Combustible del tanque: {sum(fuel_reservoirs.values())} galones\n",
    "    \"\"\"\n",
    "\n",
    "print(informe_mision(\"Moon\", 10, 15, 51, main=300000, external=200000))\n"
   ]
  },
  {
   "cell_type": "markdown",
   "metadata": {},
   "source": [
    "Debido a que el combustible que queda en los tanques es específico de cada tanque, actualiza la función para usar el nombre de cada tanque en el informe:"
   ]
  },
  {
   "cell_type": "code",
   "execution_count": 74,
   "metadata": {},
   "outputs": [
    {
     "name": "stdout",
     "output_type": "stream",
     "text": [
      " Informe de la mision:\n",
      "    Destino de la mision: Moon \n",
      "    Tiempo de vuelo: 76 minutos\n",
      "    Combustible del tanque: 500000 galones\n",
      "    Combustible del tanque main 300000 galones\n"
     ]
    }
   ],
   "source": [
    "# Escribe tu nueva función\n",
    "\n",
    "# Escribe tu nueva función de reporte considerando lo anterior\n",
    "\n",
    "# Función con un informe preciso de la misión. Considera hora de prelanzamiento, tiempo de vuelo, destino, tanque externo y tanque interno\n",
    "\n",
    "def informe_mision (destino, *minutes, **fuel_reservoirs):\n",
    "    \n",
    "    report = f\"\"\" Informe de la mision:\n",
    "    Destino de la mision: {destino} \n",
    "    Tiempo de vuelo: {sum(minutes)} minutos\n",
    "    Combustible del tanque: {sum(fuel_reservoirs.values())} galones\n",
    "    \"\"\"\n",
    "    for tanque_p,tanque_e in fuel_reservoirs.items():\n",
    "        report += f\"\"\"Combustible del tanque {tanque_p} {tanque_e} galones\"\"\"\n",
    "        return report\n",
    "\n",
    "print(informe_mision(\"Moon\", 10, 15, 51, main=300000, external=200000))\n"
   ]
  }
 ],
 "metadata": {
  "interpreter": {
   "hash": "aee8b7b246df8f9039afb4144a1f6fd8d2ca17a180786b69acc140d282b71a49"
  },
  "kernelspec": {
   "display_name": "Python 3.9.7 64-bit",
   "language": "python",
   "name": "python3"
  },
  "language_info": {
   "codemirror_mode": {
    "name": "ipython",
    "version": 3
   },
   "file_extension": ".py",
   "mimetype": "text/x-python",
   "name": "python",
   "nbconvert_exporter": "python",
   "pygments_lexer": "ipython3",
   "version": "3.9.7"
  },
  "orig_nbformat": 4
 },
 "nbformat": 4,
 "nbformat_minor": 2
}
